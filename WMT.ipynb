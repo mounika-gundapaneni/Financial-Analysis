{
  "nbformat": 4,
  "nbformat_minor": 0,
  "metadata": {
    "colab": {
      "provenance": []
    },
    "kernelspec": {
      "name": "python3",
      "display_name": "Python 3"
    },
    "language_info": {
      "name": "python"
    }
  },
  "cells": [
    {
      "cell_type": "code",
      "execution_count": 1,
      "metadata": {
        "colab": {
          "base_uri": "https://localhost:8080/",
          "height": 776
        },
        "id": "XpFLnQJZnH3y",
        "outputId": "70cfdfb9-3157-424f-ca82-5311d9c2ef72"
      },
      "outputs": [
        {
          "output_type": "stream",
          "name": "stdout",
          "text": [
            "Requirement already satisfied: yfinance in /usr/local/lib/python3.10/dist-packages (0.2.36)\n",
            "Requirement already satisfied: pandas>=1.3.0 in /usr/local/lib/python3.10/dist-packages (from yfinance) (1.5.3)\n",
            "Requirement already satisfied: numpy>=1.16.5 in /usr/local/lib/python3.10/dist-packages (from yfinance) (1.23.5)\n",
            "Requirement already satisfied: requests>=2.31 in /usr/local/lib/python3.10/dist-packages (from yfinance) (2.31.0)\n",
            "Requirement already satisfied: multitasking>=0.0.7 in /usr/local/lib/python3.10/dist-packages (from yfinance) (0.0.11)\n",
            "Requirement already satisfied: lxml>=4.9.1 in /usr/local/lib/python3.10/dist-packages (from yfinance) (4.9.4)\n",
            "Requirement already satisfied: appdirs>=1.4.4 in /usr/local/lib/python3.10/dist-packages (from yfinance) (1.4.4)\n",
            "Requirement already satisfied: pytz>=2022.5 in /usr/local/lib/python3.10/dist-packages (from yfinance) (2023.4)\n",
            "Requirement already satisfied: frozendict>=2.3.4 in /usr/local/lib/python3.10/dist-packages (from yfinance) (2.4.0)\n",
            "Requirement already satisfied: peewee>=3.16.2 in /usr/local/lib/python3.10/dist-packages (from yfinance) (3.17.1)\n",
            "Requirement already satisfied: beautifulsoup4>=4.11.1 in /usr/local/lib/python3.10/dist-packages (from yfinance) (4.12.3)\n",
            "Requirement already satisfied: html5lib>=1.1 in /usr/local/lib/python3.10/dist-packages (from yfinance) (1.1)\n",
            "Requirement already satisfied: soupsieve>1.2 in /usr/local/lib/python3.10/dist-packages (from beautifulsoup4>=4.11.1->yfinance) (2.5)\n",
            "Requirement already satisfied: six>=1.9 in /usr/local/lib/python3.10/dist-packages (from html5lib>=1.1->yfinance) (1.16.0)\n",
            "Requirement already satisfied: webencodings in /usr/local/lib/python3.10/dist-packages (from html5lib>=1.1->yfinance) (0.5.1)\n",
            "Requirement already satisfied: python-dateutil>=2.8.1 in /usr/local/lib/python3.10/dist-packages (from pandas>=1.3.0->yfinance) (2.8.2)\n",
            "Requirement already satisfied: charset-normalizer<4,>=2 in /usr/local/lib/python3.10/dist-packages (from requests>=2.31->yfinance) (3.3.2)\n",
            "Requirement already satisfied: idna<4,>=2.5 in /usr/local/lib/python3.10/dist-packages (from requests>=2.31->yfinance) (3.6)\n",
            "Requirement already satisfied: urllib3<3,>=1.21.1 in /usr/local/lib/python3.10/dist-packages (from requests>=2.31->yfinance) (2.0.7)\n",
            "Requirement already satisfied: certifi>=2017.4.17 in /usr/local/lib/python3.10/dist-packages (from requests>=2.31->yfinance) (2024.2.2)\n"
          ]
        },
        {
          "output_type": "stream",
          "name": "stderr",
          "text": [
            "/usr/local/lib/python3.10/dist-packages/yfinance/base.py:48: FutureWarning: The default dtype for empty Series will be 'object' instead of 'float64' in a future version. Specify a dtype explicitly to silence this warning.\n",
            "  _empty_series = pd.Series()\n"
          ]
        },
        {
          "output_type": "error",
          "ename": "YFNotImplementedError",
          "evalue": "Have not implemented fetching 'earnings' from Yahoo API",
          "traceback": [
            "\u001b[0;31m---------------------------------------------------------------------------\u001b[0m",
            "\u001b[0;31mYFNotImplementedError\u001b[0m                     Traceback (most recent call last)",
            "\u001b[0;32m<ipython-input-1-65690aaeeff7>\u001b[0m in \u001b[0;36m<cell line: 27>\u001b[0;34m()\u001b[0m\n\u001b[1;32m     25\u001b[0m \u001b[0;34m\u001b[0m\u001b[0m\n\u001b[1;32m     26\u001b[0m \u001b[0;31m# Perform fundamental analysis for WMT\u001b[0m\u001b[0;34m\u001b[0m\u001b[0;34m\u001b[0m\u001b[0m\n\u001b[0;32m---> 27\u001b[0;31m \u001b[0mfundamental_analysis\u001b[0m\u001b[0;34m(\u001b[0m\u001b[0;34m\"WMT\"\u001b[0m\u001b[0;34m)\u001b[0m\u001b[0;34m\u001b[0m\u001b[0;34m\u001b[0m\u001b[0m\n\u001b[0m",
            "\u001b[0;32m<ipython-input-1-65690aaeeff7>\u001b[0m in \u001b[0;36mfundamental_analysis\u001b[0;34m(ticker)\u001b[0m\n\u001b[1;32m     10\u001b[0m     \u001b[0mlatest_close\u001b[0m \u001b[0;34m=\u001b[0m \u001b[0mhistorical_data\u001b[0m\u001b[0;34m[\u001b[0m\u001b[0;34m'Close'\u001b[0m\u001b[0;34m]\u001b[0m\u001b[0;34m[\u001b[0m\u001b[0;34m-\u001b[0m\u001b[0;36m1\u001b[0m\u001b[0;34m]\u001b[0m\u001b[0;34m\u001b[0m\u001b[0;34m\u001b[0m\u001b[0m\n\u001b[1;32m     11\u001b[0m     \u001b[0mlatest_dividend\u001b[0m \u001b[0;34m=\u001b[0m \u001b[0mstock\u001b[0m\u001b[0;34m.\u001b[0m\u001b[0mdividends\u001b[0m\u001b[0;34m[\u001b[0m\u001b[0;34m-\u001b[0m\u001b[0;36m1\u001b[0m\u001b[0;34m]\u001b[0m\u001b[0;34m\u001b[0m\u001b[0;34m\u001b[0m\u001b[0m\n\u001b[0;32m---> 12\u001b[0;31m     \u001b[0mpe_ratio\u001b[0m \u001b[0;34m=\u001b[0m \u001b[0mlatest_close\u001b[0m \u001b[0;34m/\u001b[0m \u001b[0mstock\u001b[0m\u001b[0;34m.\u001b[0m\u001b[0mearnings\u001b[0m\u001b[0;34m[\u001b[0m\u001b[0;34m-\u001b[0m\u001b[0;36m1\u001b[0m\u001b[0;34m]\u001b[0m\u001b[0;34m\u001b[0m\u001b[0;34m\u001b[0m\u001b[0m\n\u001b[0m\u001b[1;32m     13\u001b[0m     \u001b[0mpb_ratio\u001b[0m \u001b[0;34m=\u001b[0m \u001b[0mlatest_close\u001b[0m \u001b[0;34m/\u001b[0m \u001b[0;34m(\u001b[0m\u001b[0mstock\u001b[0m\u001b[0;34m.\u001b[0m\u001b[0minfo\u001b[0m\u001b[0;34m[\u001b[0m\u001b[0;34m'bookValue'\u001b[0m\u001b[0;34m]\u001b[0m \u001b[0;34m*\u001b[0m \u001b[0mstock\u001b[0m\u001b[0;34m.\u001b[0m\u001b[0minfo\u001b[0m\u001b[0;34m[\u001b[0m\u001b[0;34m'sharesOutstanding'\u001b[0m\u001b[0;34m]\u001b[0m\u001b[0;34m)\u001b[0m\u001b[0;34m\u001b[0m\u001b[0;34m\u001b[0m\u001b[0m\n\u001b[1;32m     14\u001b[0m     \u001b[0mroe\u001b[0m \u001b[0;34m=\u001b[0m \u001b[0mstock\u001b[0m\u001b[0;34m.\u001b[0m\u001b[0minfo\u001b[0m\u001b[0;34m[\u001b[0m\u001b[0;34m'returnOnEquity'\u001b[0m\u001b[0;34m]\u001b[0m\u001b[0;34m\u001b[0m\u001b[0;34m\u001b[0m\u001b[0m\n",
            "\u001b[0;32m/usr/local/lib/python3.10/dist-packages/yfinance/ticker.py\u001b[0m in \u001b[0;36mearnings\u001b[0;34m(self)\u001b[0m\n\u001b[1;32m    179\u001b[0m     \u001b[0;34m@\u001b[0m\u001b[0mproperty\u001b[0m\u001b[0;34m\u001b[0m\u001b[0;34m\u001b[0m\u001b[0m\n\u001b[1;32m    180\u001b[0m     \u001b[0;32mdef\u001b[0m \u001b[0mearnings\u001b[0m\u001b[0;34m(\u001b[0m\u001b[0mself\u001b[0m\u001b[0;34m)\u001b[0m \u001b[0;34m->\u001b[0m \u001b[0m_pd\u001b[0m\u001b[0;34m.\u001b[0m\u001b[0mDataFrame\u001b[0m\u001b[0;34m:\u001b[0m\u001b[0;34m\u001b[0m\u001b[0;34m\u001b[0m\u001b[0m\n\u001b[0;32m--> 181\u001b[0;31m         \u001b[0;32mreturn\u001b[0m \u001b[0mself\u001b[0m\u001b[0;34m.\u001b[0m\u001b[0mget_earnings\u001b[0m\u001b[0;34m(\u001b[0m\u001b[0;34m)\u001b[0m\u001b[0;34m\u001b[0m\u001b[0;34m\u001b[0m\u001b[0m\n\u001b[0m\u001b[1;32m    182\u001b[0m \u001b[0;34m\u001b[0m\u001b[0m\n\u001b[1;32m    183\u001b[0m     \u001b[0;34m@\u001b[0m\u001b[0mproperty\u001b[0m\u001b[0;34m\u001b[0m\u001b[0;34m\u001b[0m\u001b[0m\n",
            "\u001b[0;32m/usr/local/lib/python3.10/dist-packages/yfinance/base.py\u001b[0m in \u001b[0;36mget_earnings\u001b[0;34m(self, proxy, as_dict, freq)\u001b[0m\n\u001b[1;32m   1851\u001b[0m         \"\"\"\n\u001b[1;32m   1852\u001b[0m         \u001b[0mself\u001b[0m\u001b[0;34m.\u001b[0m\u001b[0m_fundamentals\u001b[0m\u001b[0;34m.\u001b[0m\u001b[0mproxy\u001b[0m \u001b[0;34m=\u001b[0m \u001b[0mproxy\u001b[0m \u001b[0;32mor\u001b[0m \u001b[0mself\u001b[0m\u001b[0;34m.\u001b[0m\u001b[0mproxy\u001b[0m\u001b[0;34m\u001b[0m\u001b[0;34m\u001b[0m\u001b[0m\n\u001b[0;32m-> 1853\u001b[0;31m         \u001b[0mdata\u001b[0m \u001b[0;34m=\u001b[0m \u001b[0mself\u001b[0m\u001b[0;34m.\u001b[0m\u001b[0m_fundamentals\u001b[0m\u001b[0;34m.\u001b[0m\u001b[0mearnings\u001b[0m\u001b[0;34m[\u001b[0m\u001b[0mfreq\u001b[0m\u001b[0;34m]\u001b[0m\u001b[0;34m\u001b[0m\u001b[0;34m\u001b[0m\u001b[0m\n\u001b[0m\u001b[1;32m   1854\u001b[0m         \u001b[0;32mif\u001b[0m \u001b[0mas_dict\u001b[0m\u001b[0;34m:\u001b[0m\u001b[0;34m\u001b[0m\u001b[0;34m\u001b[0m\u001b[0m\n\u001b[1;32m   1855\u001b[0m             \u001b[0mdict_data\u001b[0m \u001b[0;34m=\u001b[0m \u001b[0mdata\u001b[0m\u001b[0;34m.\u001b[0m\u001b[0mto_dict\u001b[0m\u001b[0;34m(\u001b[0m\u001b[0;34m)\u001b[0m\u001b[0;34m\u001b[0m\u001b[0;34m\u001b[0m\u001b[0m\n",
            "\u001b[0;32m/usr/local/lib/python3.10/dist-packages/yfinance/scrapers/fundamentals.py\u001b[0m in \u001b[0;36mearnings\u001b[0;34m(self)\u001b[0m\n\u001b[1;32m     32\u001b[0m     \u001b[0;32mdef\u001b[0m \u001b[0mearnings\u001b[0m\u001b[0;34m(\u001b[0m\u001b[0mself\u001b[0m\u001b[0;34m)\u001b[0m \u001b[0;34m->\u001b[0m \u001b[0mdict\u001b[0m\u001b[0;34m:\u001b[0m\u001b[0;34m\u001b[0m\u001b[0;34m\u001b[0m\u001b[0m\n\u001b[1;32m     33\u001b[0m         \u001b[0;32mif\u001b[0m \u001b[0mself\u001b[0m\u001b[0;34m.\u001b[0m\u001b[0m_earnings\u001b[0m \u001b[0;32mis\u001b[0m \u001b[0;32mNone\u001b[0m\u001b[0;34m:\u001b[0m\u001b[0;34m\u001b[0m\u001b[0;34m\u001b[0m\u001b[0m\n\u001b[0;32m---> 34\u001b[0;31m             \u001b[0;32mraise\u001b[0m \u001b[0mYFNotImplementedError\u001b[0m\u001b[0;34m(\u001b[0m\u001b[0;34m'earnings'\u001b[0m\u001b[0;34m)\u001b[0m\u001b[0;34m\u001b[0m\u001b[0;34m\u001b[0m\u001b[0m\n\u001b[0m\u001b[1;32m     35\u001b[0m         \u001b[0;32mreturn\u001b[0m \u001b[0mself\u001b[0m\u001b[0;34m.\u001b[0m\u001b[0m_earnings\u001b[0m\u001b[0;34m\u001b[0m\u001b[0;34m\u001b[0m\u001b[0m\n\u001b[1;32m     36\u001b[0m \u001b[0;34m\u001b[0m\u001b[0m\n",
            "\u001b[0;31mYFNotImplementedError\u001b[0m: Have not implemented fetching 'earnings' from Yahoo API"
          ]
        }
      ],
      "source": [
        "!pip install yfinance\n",
        "import yfinance as yf\n",
        "\n",
        "def fundamental_analysis(ticker):\n",
        "    # Fetch data\n",
        "    stock = yf.Ticker(ticker)\n",
        "    historical_data = stock.history(period=\"max\")\n",
        "\n",
        "    # Calculate metrics\n",
        "    latest_close = historical_data['Close'][-1]\n",
        "    latest_dividend = stock.dividends[-1]\n",
        "    pe_ratio = latest_close / stock.earnings[-1]\n",
        "    pb_ratio = latest_close / (stock.info['bookValue'] * stock.info['sharesOutstanding'])\n",
        "    roe = stock.info['returnOnEquity']\n",
        "    gross_margin = stock.info['grossMargins']\n",
        "\n",
        "    # Print results\n",
        "    print(\"Walmart Inc. (WMT) Fundamental Analysis:\")\n",
        "    print(\"Latest Close Price:\", latest_close)\n",
        "    print(\"Latest Dividend:\", latest_dividend)\n",
        "    print(\"Price-to-Earnings (P/E) Ratio:\", pe_ratio)\n",
        "    print(\"Price-to-Book (P/B) Ratio:\", pb_ratio)\n",
        "    print(\"Return on Equity (ROE):\", roe)\n",
        "    print(\"Gross Margin:\", gross_margin)\n",
        "\n",
        "# Perform fundamental analysis for WMT\n",
        "fundamental_analysis(\"WMT\")"
      ]
    },
    {
      "cell_type": "code",
      "source": [
        "from yahoo_fin import stock_info as si\n",
        "\n",
        "def get_wmt fundamentals():\n",
        "    # Get key financial data\n",
        "    income_statement = si.get_income_statement('WMT')\n",
        "    balance_sheet = si.get_balance_sheet('WMT')\n",
        "    cash_flow = si.get_cash_flow('WMT')\n",
        "\n",
        "    # Extract relevant metrics\n",
        "    revenue = income_statement['Total Revenue'][0]\n",
        "    net_income = income_statement['Net Income'][0]\n",
        "    total_assets = balance_sheet['Total Assets'][0]\n",
        "    total_liabilities = balance_sheet['Total Liabilities'][0]\n",
        "    operating_cash_flow = cash_flow['Operating Cash Flow'][0]\n",
        "\n",
        "    # Calculate additional ratios\n",
        "    profit_margin = net_income / revenue\n",
        "    debt_to_equity_ratio = total_liabilities / (total_assets - total_liabilities)\n",
        "    current_ratio = balance_sheet['Total Current Assets'][0] / balance_sheet['Total Current Liabilities'][0]\n",
        "\n",
        "    # Display results\n",
        "    print(\"Walmart Inc. (WMT) Fundamental Analysis:\")\n",
        "    print(\"Revenue:\", revenue)\n",
        "    print(\"Net Income:\", net_income)\n",
        "    print(\"Profit Margin:\", profit_margin)\n",
        "    print(\"Total Assets:\", total_assets)\n",
        "    print(\"Total Liabilities:\", total_liabilities)\n",
        "    print(\"Debt-to-Equity Ratio:\", debt_to_equity_ratio)\n",
        "    print(\"Current Ratio:\", current_ratio)\n",
        "    print(\"Operating Cash Flow:\", operating_cash_flow)\n",
        "\n",
        "# Perform fundamental analysis for WMT\n",
        "get_wmt_fundamentals()"
      ],
      "metadata": {
        "colab": {
          "base_uri": "https://localhost:8080/",
          "height": 143
        },
        "id": "TuhAaJlYnOh1",
        "outputId": "5f79816e-9a09-4ccc-8134-ee79dc2270e0"
      },
      "execution_count": 2,
      "outputs": [
        {
          "output_type": "error",
          "ename": "SyntaxError",
          "evalue": "invalid syntax (<ipython-input-2-8e9a14da00c8>, line 3)",
          "traceback": [
            "\u001b[0;36m  File \u001b[0;32m\"<ipython-input-2-8e9a14da00c8>\"\u001b[0;36m, line \u001b[0;32m3\u001b[0m\n\u001b[0;31m    def get_wmt fundamentals():\u001b[0m\n\u001b[0m                ^\u001b[0m\n\u001b[0;31mSyntaxError\u001b[0m\u001b[0;31m:\u001b[0m invalid syntax\n"
          ]
        }
      ]
    },
    {
      "cell_type": "code",
      "source": [
        "import yfinance as yf\n",
        "\n",
        "def fundamental_analysis(ticker):\n",
        "    # Fetch company information\n",
        "    company = yf.Ticker(ticker)\n",
        "\n",
        "    # Get key statistics\n",
        "    key_stats = company.info\n",
        "\n",
        "    # Print key statistics\n",
        "    print(\"Walmart Inc. (WMT) Key Statistics:\")\n",
        "    print(\"Market Cap:\", key_stats.get('marketCap'))\n",
        "    print(\"Enterprise Value:\", key_stats.get('enterpriseValue'))\n",
        "    print(\"Trailing P/E:\", key_stats.get('trailingPE'))\n",
        "    print(\"Forward P/E:\", key_stats.get('forwardPE'))\n",
        "    print(\"PEG Ratio (5 yr expected):\", key_stats.get('pegRatio'))\n",
        "    print(\"Price/Book:\", key_stats.get('priceToBook'))\n",
        "    print(\"Price/Sales:\", key_stats.get('priceToSalesTrailing12Months'))\n",
        "    print(\"EV/Revenue:\", key_stats.get('enterpriseToRevenue'))\n",
        "    print(\"EV/EBITDA:\", key_stats.get('enterpriseToEbitda'))\n",
        "    print(\"Profit Margin:\", key_stats.get('profitMargins'))\n",
        "    print(\"Operating Margin (ttm):\", key_stats.get('operatingMargins'))\n",
        "    print(\"Return on Assets (ttm):\", key_stats.get('returnOnAssets'))\n",
        "    print(\"Return on Equity (ttm):\", key_stats.get('returnOnEquity'))\n",
        "    print(\"Revenue (ttm):\", key_stats.get('revenueTTM'))\n",
        "    print(\"Gross Profit (ttm):\", key_stats.get('grossProfitsTTM'))\n",
        "    print(\"EBITDA (ttm):\", key_stats.get('ebitda'))\n",
        "    print(\"Total Cash:\", key_stats.get('totalCash'))\n",
        "    print(\"Total Debt:\", key_stats.get('totalDebt'))\n",
        "    print(\"Current Ratio:\", key_stats.get('currentRatio'))\n",
        "    print(\"Quick Ratio:\", key_stats.get('quickRatio'))\n",
        "    print(\"Book Value Per Share:\", key_stats.get('bookValue'))\n",
        "    print(\"Operating Cash Flow:\", key_stats.get('operatingCashflow'))\n",
        "    print(\"Free Cash Flow:\", key_stats.get('freeCashflow'))\n",
        "\n",
        "# Perform fundamental analysis for WMT\n",
        "fundamental_analysis(\"WMT\")"
      ],
      "metadata": {
        "colab": {
          "base_uri": "https://localhost:8080/"
        },
        "id": "aD6iMwpc5qpj",
        "outputId": "53a8b3fe-0a10-4be7-add8-ad5add04243b"
      },
      "execution_count": 3,
      "outputs": [
        {
          "output_type": "stream",
          "name": "stdout",
          "text": [
            "Walmart Inc. (WMT) Key Statistics:\n",
            "Market Cap: 457331277824\n",
            "Enterprise Value: 521922314240\n",
            "Trailing P/E: 28.249582\n",
            "Forward P/E: 24.014143\n",
            "PEG Ratio (5 yr expected): 3.14\n",
            "Price/Book: 5.754279\n",
            "Price/Sales: 0.7159393\n",
            "EV/Revenue: 0.817\n",
            "EV/EBITDA: 13.857\n",
            "Profit Margin: 0.0255\n",
            "Operating Margin (ttm): 0.03857\n",
            "Return on Assets (ttm): 0.06442\n",
            "Return on Equity (ttm): 0.19737\n",
            "Revenue (ttm): None\n",
            "Gross Profit (ttm): None\n",
            "EBITDA (ttm): 37666000896\n",
            "Total Cash: 12154000384\n",
            "Total Debt: 71979999232\n",
            "Current Ratio: 0.848\n",
            "Quick Ratio: 0.199\n",
            "Book Value Per Share: 29.505\n",
            "Operating Cash Flow: 32156999680\n",
            "Free Cash Flow: 10398624768\n"
          ]
        }
      ]
    },
    {
      "cell_type": "code",
      "source": [],
      "metadata": {
        "id": "5fran5I15uBJ"
      },
      "execution_count": null,
      "outputs": []
    }
  ]
}